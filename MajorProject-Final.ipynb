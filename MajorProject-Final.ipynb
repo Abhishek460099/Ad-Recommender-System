{
 "cells": [
  {
   "cell_type": "code",
   "execution_count": 9,
   "metadata": {},
   "outputs": [],
   "source": [
    "import pandas as pd\n",
    "import numpy as np"
   ]
  },
  {
   "cell_type": "code",
   "execution_count": 10,
   "metadata": {},
   "outputs": [],
   "source": [
    "user_data = pd.read_csv('user_data.csv')\n",
    "ads_data = pd.read_csv('ads_data.csv')\n",
    "user_messages = pd.read_csv('user_messages.csv')"
   ]
  },
  {
   "cell_type": "code",
   "execution_count": 11,
   "metadata": {},
   "outputs": [],
   "source": [
    "# convert to datetime fields to standard datetime format\n",
    "import datetime as dt\n",
    "user_data['event_time'] = pd.to_datetime(user_data['event_time']).map(dt.datetime.toordinal)\n",
    "ads_data['creation_time'] = pd.to_datetime(ads_data['creation_time']).map(dt.datetime.toordinal)\n"
   ]
  },
  {
   "cell_type": "code",
   "execution_count": 12,
   "metadata": {},
   "outputs": [],
   "source": [
    "# label encoding of categorical fields\n",
    "from sklearn import preprocessing\n",
    "le = preprocessing.LabelEncoder()\n",
    "le.fit(user_data['event'])\n",
    "le_name_mapping = dict(zip(le.classes_, le.transform(le.classes_)))\n",
    "#print(le_name_mapping) \n",
    "user_data['event'] = le.fit(user_data['event']).transform(user_data['event'])"
   ]
  },
  {
   "cell_type": "code",
   "execution_count": 13,
   "metadata": {},
   "outputs": [],
   "source": [
    "le = preprocessing.LabelEncoder()\n",
    "le.fit(user_data['channel'])\n",
    "le_name_mapping = dict(zip(le.classes_, le.transform(le.classes_)))\n",
    "#print(le_name_mapping)\n",
    "user_data['channel'] = le.fit(user_data['channel']).transform(user_data['channel'])"
   ]
  },
  {
   "cell_type": "code",
   "execution_count": 14,
   "metadata": {},
   "outputs": [],
   "source": [
    "combined = pd.merge(user_data, ads_data, on='ad_id')"
   ]
  },
  {
   "cell_type": "code",
   "execution_count": 15,
   "metadata": {},
   "outputs": [],
   "source": [
    "# generating output label\n",
    "user_ad_dict = {}\n",
    "for index, row in user_messages.iterrows():\n",
    "    ads = row['ads'].replace('[','').replace(']','').split(',') \n",
    "    for ad in ads:\n",
    "        user_ad_dict[str(row['user_id']) + '|' + str(ad)] = 1\n",
    "        \n",
    "def isRecommended(row):\n",
    "    return user_ad_dict.get(str(row['user_id']) + '|' + str(row['ad_id']),0)\n",
    "\n",
    "combined['isRecommended'] = combined.apply(isRecommended, axis = 1)"
   ]
  },
  {
   "cell_type": "code",
   "execution_count": 16,
   "metadata": {},
   "outputs": [],
   "source": [
    "#  sort user data \n",
    "combined.sort_values('event_time',inplace=True)"
   ]
  },
  {
   "cell_type": "markdown",
   "metadata": {},
   "source": [
    "# Recommending the most popular"
   ]
  },
  {
   "cell_type": "code",
   "execution_count": 17,
   "metadata": {},
   "outputs": [],
   "source": [
    "df = user_data[['ad_id','ad_messages']].groupby('ad_id', as_index=False).agg('count')\n",
    "most_popular_ads = df.nlargest(10,['ad_messages'])['ad_id'].tolist()"
   ]
  },
  {
   "cell_type": "code",
   "execution_count": 18,
   "metadata": {},
   "outputs": [
    {
     "data": {
      "text/html": [
       "<div>\n",
       "<style scoped>\n",
       "    .dataframe tbody tr th:only-of-type {\n",
       "        vertical-align: middle;\n",
       "    }\n",
       "\n",
       "    .dataframe tbody tr th {\n",
       "        vertical-align: top;\n",
       "    }\n",
       "\n",
       "    .dataframe thead th {\n",
       "        text-align: right;\n",
       "    }\n",
       "</style>\n",
       "<table border=\"1\" class=\"dataframe\">\n",
       "  <thead>\n",
       "    <tr style=\"text-align: right;\">\n",
       "      <th></th>\n",
       "      <th>user_id</th>\n",
       "      <th>category_id</th>\n",
       "      <th>ads</th>\n",
       "      <th>recommend</th>\n",
       "    </tr>\n",
       "  </thead>\n",
       "  <tbody>\n",
       "    <tr>\n",
       "      <th>0</th>\n",
       "      <td>1</td>\n",
       "      <td>859</td>\n",
       "      <td>[1806476]</td>\n",
       "      <td>[2804693, 2794985, 2809690, 2814436, 26400, 28...</td>\n",
       "    </tr>\n",
       "    <tr>\n",
       "      <th>1</th>\n",
       "      <td>3</td>\n",
       "      <td>800</td>\n",
       "      <td>[2131700, 2734107, 2877209, 2877209]</td>\n",
       "      <td>[2804693, 2794985, 2809690, 2814436, 26400, 28...</td>\n",
       "    </tr>\n",
       "    <tr>\n",
       "      <th>2</th>\n",
       "      <td>4</td>\n",
       "      <td>815</td>\n",
       "      <td>[2883211]</td>\n",
       "      <td>[2804693, 2794985, 2809690, 2814436, 26400, 28...</td>\n",
       "    </tr>\n",
       "    <tr>\n",
       "      <th>3</th>\n",
       "      <td>7</td>\n",
       "      <td>815</td>\n",
       "      <td>[2429412, 2886810, 2886804]</td>\n",
       "      <td>[2804693, 2794985, 2809690, 2814436, 26400, 28...</td>\n",
       "    </tr>\n",
       "    <tr>\n",
       "      <th>4</th>\n",
       "      <td>7</td>\n",
       "      <td>362</td>\n",
       "      <td>[2909301]</td>\n",
       "      <td>[2804693, 2794985, 2809690, 2814436, 26400, 28...</td>\n",
       "    </tr>\n",
       "  </tbody>\n",
       "</table>\n",
       "</div>"
      ],
      "text/plain": [
       "   user_id  category_id                                   ads  \\\n",
       "0        1          859                             [1806476]   \n",
       "1        3          800  [2131700, 2734107, 2877209, 2877209]   \n",
       "2        4          815                             [2883211]   \n",
       "3        7          815           [2429412, 2886810, 2886804]   \n",
       "4        7          362                             [2909301]   \n",
       "\n",
       "                                           recommend  \n",
       "0  [2804693, 2794985, 2809690, 2814436, 26400, 28...  \n",
       "1  [2804693, 2794985, 2809690, 2814436, 26400, 28...  \n",
       "2  [2804693, 2794985, 2809690, 2814436, 26400, 28...  \n",
       "3  [2804693, 2794985, 2809690, 2814436, 26400, 28...  \n",
       "4  [2804693, 2794985, 2809690, 2814436, 26400, 28...  "
      ]
     },
     "execution_count": 18,
     "metadata": {},
     "output_type": "execute_result"
    }
   ],
   "source": [
    "sub1 = user_messages \n",
    "sub1['recommend'] = str(most_popular_ads)\n",
    "sub1.head()"
   ]
  },
  {
   "cell_type": "markdown",
   "metadata": {},
   "source": [
    "# Model Evaluation"
   ]
  },
  {
   "cell_type": "code",
   "execution_count": 19,
   "metadata": {},
   "outputs": [],
   "source": [
    "def evaluate_accuracy(df):\n",
    "    \n",
    "    count = 0\n",
    "    for index, row in df.iterrows():\n",
    "        ads = row['ads'].replace('[','').replace(']','').split(',')\n",
    "        recommended_ads = row['recommend'].replace('[','').replace(']','').split(',')\n",
    "        \n",
    "        for ad in ads:\n",
    "            if (ad in recommended_ads):\n",
    "                count = count + 1\n",
    "                \n",
    "    return count\n",
    "                "
   ]
  },
  {
   "cell_type": "code",
   "execution_count": 20,
   "metadata": {},
   "outputs": [],
   "source": [
    "def evaluate_precision(df):\n",
    "    \n",
    "    score = 0\n",
    "    for index, row in df.iterrows():\n",
    "        count = 0\n",
    "        ads = row['ads'].replace('[','').replace(']','').split(',')\n",
    "        recommended_ads = row['recommend'].replace('[','').replace(']','').split(',')\n",
    "        \n",
    "        for i in range(0, len(recommended_ads)):\n",
    "            if (recommended_ads[i] in ads):\n",
    "                count = count + 1\n",
    "                score = score + count\n",
    "        \n",
    "        #print(ads, \":\", recommended_ads,\":\" ,score)\n",
    "        score = 1.0*score/len(ads)\n",
    "        \n",
    "                \n",
    "    return score\n",
    "                "
   ]
  },
  {
   "cell_type": "code",
   "execution_count": 21,
   "metadata": {},
   "outputs": [
    {
     "name": "stdout",
     "output_type": "stream",
     "text": [
      "accuracy of model 1 :  4\n",
      "precision of model 1 :  0.0\n"
     ]
    }
   ],
   "source": [
    "print('accuracy of model 1 : ',evaluate_accuracy(sub1))\n",
    "print('precision of model 1 : ',evaluate_precision(sub1))"
   ]
  },
  {
   "cell_type": "markdown",
   "metadata": {},
   "source": [
    "# Recommending category-wise most popular elements"
   ]
  },
  {
   "cell_type": "code",
   "execution_count": 22,
   "metadata": {},
   "outputs": [],
   "source": [
    "df = user_data[['ad_id','ad_views']].groupby('ad_id', as_index=False).agg('sum')\n",
    "most_popular_ads = df.nlargest(10,['ad_views'])['ad_id'].tolist()"
   ]
  },
  {
   "cell_type": "code",
   "execution_count": 23,
   "metadata": {},
   "outputs": [],
   "source": [
    "df1 = user_data[['ad_id','ad_views']]\n",
    "df2 = ads_data[['ad_id','category_id']]\n",
    "merged_data = pd.merge(df1, df2, on='ad_id')"
   ]
  },
  {
   "cell_type": "code",
   "execution_count": 24,
   "metadata": {},
   "outputs": [],
   "source": [
    "most_popular_ads_catwise = merged_data.groupby(['category_id','ad_id'], as_index=False).agg('count')"
   ]
  },
  {
   "cell_type": "code",
   "execution_count": 25,
   "metadata": {},
   "outputs": [
    {
     "data": {
      "text/plain": [
       "array([362, 800, 806, 811, 815, 853, 859, 881, 887, 888], dtype=int64)"
      ]
     },
     "execution_count": 25,
     "metadata": {},
     "output_type": "execute_result"
    }
   ],
   "source": [
    "df = most_popular_ads_catwise\n",
    "cats = df.category_id.unique()\n",
    "cats"
   ]
  },
  {
   "cell_type": "code",
   "execution_count": 26,
   "metadata": {},
   "outputs": [
    {
     "name": "stdout",
     "output_type": "stream",
     "text": [
      "{362: [2757104, 2836886, 2853312, 2560201, 2449079, 2806018, 2598159, 1704736, 2661821, 333573], 800: [2814436, 2806603, 2816630, 2816336, 2802819, 2031170, 2739908, 2649805, 2587910, 2737601], 806: [2804693, 2809690, 26400, 2825119, 2788868, 2764905, 2785533, 2516918, 2822691, 2336966], 811: [2626729, 2764838, 1928465, 2753896, 2597250, 2727592, 2839093, 2670023, 2746309, 2667189], 815: [2234932, 2434247, 2796911, 2812937, 2812849, 2719785, 2342155, 2816482, 2748424, 2434257], 853: [2853382, 2839832, 2082120, 2564683, 1190194, 2613818, 2632665, 2774269, 2832788, 2813016], 859: [2449447, 2567368, 2426549, 2274484, 1998464, 2740230, 2067241, 2778369, 1065275, 2842601], 881: [2794985, 2816864, 2817712, 2840833, 2727695, 2519508, 2662331, 2767340, 2846976, 2688815], 887: [2852082, 2677927, 2802433, 2634993, 2696625, 2714941, 2592955, 2810869, 1699375, 2031454], 888: [2254453, 2827386, 2740665, 2578937, 2826518, 2808111, 2826051, 2808047, 2808064, 2827584]}\n"
     ]
    }
   ],
   "source": [
    "cat_dict = {}\n",
    "for cat in cats:\n",
    "    df1 = df[df['category_id']==cat]\n",
    "    cat_dict[cat] = df1.nlargest(10,['ad_views'])['ad_id'].tolist()\n",
    "    \n",
    "print(cat_dict)"
   ]
  },
  {
   "cell_type": "code",
   "execution_count": 27,
   "metadata": {},
   "outputs": [
    {
     "data": {
      "text/html": [
       "<div>\n",
       "<style scoped>\n",
       "    .dataframe tbody tr th:only-of-type {\n",
       "        vertical-align: middle;\n",
       "    }\n",
       "\n",
       "    .dataframe tbody tr th {\n",
       "        vertical-align: top;\n",
       "    }\n",
       "\n",
       "    .dataframe thead th {\n",
       "        text-align: right;\n",
       "    }\n",
       "</style>\n",
       "<table border=\"1\" class=\"dataframe\">\n",
       "  <thead>\n",
       "    <tr style=\"text-align: right;\">\n",
       "      <th></th>\n",
       "      <th>user_id</th>\n",
       "      <th>category_id</th>\n",
       "      <th>ads</th>\n",
       "      <th>recommend</th>\n",
       "    </tr>\n",
       "  </thead>\n",
       "  <tbody>\n",
       "    <tr>\n",
       "      <th>0</th>\n",
       "      <td>1</td>\n",
       "      <td>859</td>\n",
       "      <td>[1806476]</td>\n",
       "      <td>[2449447, 2567368, 2426549, 2274484, 1998464, ...</td>\n",
       "    </tr>\n",
       "    <tr>\n",
       "      <th>1</th>\n",
       "      <td>3</td>\n",
       "      <td>800</td>\n",
       "      <td>[2131700, 2734107, 2877209, 2877209]</td>\n",
       "      <td>[2814436, 2806603, 2816630, 2816336, 2802819, ...</td>\n",
       "    </tr>\n",
       "    <tr>\n",
       "      <th>2</th>\n",
       "      <td>4</td>\n",
       "      <td>815</td>\n",
       "      <td>[2883211]</td>\n",
       "      <td>[2234932, 2434247, 2796911, 2812937, 2812849, ...</td>\n",
       "    </tr>\n",
       "    <tr>\n",
       "      <th>3</th>\n",
       "      <td>7</td>\n",
       "      <td>815</td>\n",
       "      <td>[2429412, 2886810, 2886804]</td>\n",
       "      <td>[2234932, 2434247, 2796911, 2812937, 2812849, ...</td>\n",
       "    </tr>\n",
       "    <tr>\n",
       "      <th>4</th>\n",
       "      <td>7</td>\n",
       "      <td>362</td>\n",
       "      <td>[2909301]</td>\n",
       "      <td>[2757104, 2836886, 2853312, 2560201, 2449079, ...</td>\n",
       "    </tr>\n",
       "  </tbody>\n",
       "</table>\n",
       "</div>"
      ],
      "text/plain": [
       "   user_id  category_id                                   ads  \\\n",
       "0        1          859                             [1806476]   \n",
       "1        3          800  [2131700, 2734107, 2877209, 2877209]   \n",
       "2        4          815                             [2883211]   \n",
       "3        7          815           [2429412, 2886810, 2886804]   \n",
       "4        7          362                             [2909301]   \n",
       "\n",
       "                                           recommend  \n",
       "0  [2449447, 2567368, 2426549, 2274484, 1998464, ...  \n",
       "1  [2814436, 2806603, 2816630, 2816336, 2802819, ...  \n",
       "2  [2234932, 2434247, 2796911, 2812937, 2812849, ...  \n",
       "3  [2234932, 2434247, 2796911, 2812937, 2812849, ...  \n",
       "4  [2757104, 2836886, 2853312, 2560201, 2449079, ...  "
      ]
     },
     "execution_count": 27,
     "metadata": {},
     "output_type": "execute_result"
    }
   ],
   "source": [
    "def catWisePopular(row):\n",
    "    return str(cat_dict[row['category_id']])\n",
    "\n",
    "sub2 = user_messages \n",
    "sub2['recommend'] = sub2.apply(catWisePopular, axis = 1)\n",
    "sub2.head()"
   ]
  },
  {
   "cell_type": "code",
   "execution_count": 28,
   "metadata": {},
   "outputs": [
    {
     "name": "stdout",
     "output_type": "stream",
     "text": [
      "accuracy of model 2 :  38\n",
      "precision of model 2 :  8.356321959541373e-22\n"
     ]
    }
   ],
   "source": [
    "print('accuracy of model 2 : ',evaluate_accuracy(sub2))\n",
    "print('precision of model 2 : ',evaluate_precision(sub2))"
   ]
  },
  {
   "cell_type": "markdown",
   "metadata": {},
   "source": [
    "# Classifaction based model"
   ]
  },
  {
   "cell_type": "code",
   "execution_count": 29,
   "metadata": {},
   "outputs": [],
   "source": [
    "#columns = [col for col in combined.columns if col not in ['user_lat', \n",
    "#'user_long', 'lat', 'long', 'title', 'description', 'origin', 'source']]\n",
    "\n",
    "#combined = combined[columns]"
   ]
  },
  {
   "cell_type": "code",
   "execution_count": 30,
   "metadata": {},
   "outputs": [],
   "source": [
    "import numpy as np\n",
    "combined = combined.replace([np.inf, -np.inf], np.nan)\n",
    "combined = combined.fillna(0)"
   ]
  },
  {
   "cell_type": "code",
   "execution_count": 31,
   "metadata": {},
   "outputs": [],
   "source": [
    "from sklearn.model_selection import train_test_split\n",
    "train, val = train_test_split(combined, test_size = 0.2, random_state = 0)"
   ]
  },
  {
   "cell_type": "code",
   "execution_count": 32,
   "metadata": {},
   "outputs": [
    {
     "name": "stdout",
     "output_type": "stream",
     "text": [
      "Traning Accuracy :0.9993417335670985\n",
      "Validation Accuracy :0.9994309409531272\n"
     ]
    }
   ],
   "source": [
    "features = ['lat','user_lat']\n",
    "from sklearn.tree import DecisionTreeClassifier\n",
    "from sklearn.metrics import accuracy_score\n",
    "\n",
    "clf = DecisionTreeClassifier(random_state=0, max_depth=1)\n",
    "clf.fit(train[features], train['isRecommended'])\n",
    "\n",
    "\n"
   ]
  },
  {
   "cell_type": "code",
   "execution_count": 37,
   "metadata": {},
   "outputs": [
    {
     "data": {
      "text/html": [
       "<div>\n",
       "<style scoped>\n",
       "    .dataframe tbody tr th:only-of-type {\n",
       "        vertical-align: middle;\n",
       "    }\n",
       "\n",
       "    .dataframe tbody tr th {\n",
       "        vertical-align: top;\n",
       "    }\n",
       "\n",
       "    .dataframe thead th {\n",
       "        text-align: right;\n",
       "    }\n",
       "</style>\n",
       "<table border=\"1\" class=\"dataframe\">\n",
       "  <thead>\n",
       "    <tr style=\"text-align: right;\">\n",
       "      <th></th>\n",
       "      <th>event_time</th>\n",
       "      <th>user_id</th>\n",
       "      <th>event</th>\n",
       "      <th>channel</th>\n",
       "      <th>user_lat</th>\n",
       "      <th>user_long</th>\n",
       "      <th>origin</th>\n",
       "      <th>ad_id</th>\n",
       "      <th>images_count</th>\n",
       "      <th>ad_impressions</th>\n",
       "      <th>...</th>\n",
       "      <th>seller_id</th>\n",
       "      <th>creation_time</th>\n",
       "      <th>title</th>\n",
       "      <th>description</th>\n",
       "      <th>price</th>\n",
       "      <th>lat</th>\n",
       "      <th>long</th>\n",
       "      <th>source</th>\n",
       "      <th>enabled</th>\n",
       "      <th>isRecommended</th>\n",
       "    </tr>\n",
       "  </thead>\n",
       "  <tbody>\n",
       "    <tr>\n",
       "      <th>1353502</th>\n",
       "      <td>736467</td>\n",
       "      <td>10152</td>\n",
       "      <td>1</td>\n",
       "      <td>2</td>\n",
       "      <td>-34.596501</td>\n",
       "      <td>-58.431631</td>\n",
       "      <td>home</td>\n",
       "      <td>2630878</td>\n",
       "      <td>1.0</td>\n",
       "      <td>0.0</td>\n",
       "      <td>...</td>\n",
       "      <td>616357</td>\n",
       "      <td>736466</td>\n",
       "      <td>MUEBLE VANITORY COMPLETO OFERT</td>\n",
       "      <td>Vanitory completo con bacha de vidrio, cajon y...</td>\n",
       "      <td>1997.0</td>\n",
       "      <td>0.000000</td>\n",
       "      <td>0.000000</td>\n",
       "      <td>android</td>\n",
       "      <td>0</td>\n",
       "      <td>0</td>\n",
       "    </tr>\n",
       "    <tr>\n",
       "      <th>36272</th>\n",
       "      <td>736480</td>\n",
       "      <td>4094</td>\n",
       "      <td>1</td>\n",
       "      <td>0</td>\n",
       "      <td>-34.646748</td>\n",
       "      <td>-58.504932</td>\n",
       "      <td>home</td>\n",
       "      <td>2725792</td>\n",
       "      <td>3.0</td>\n",
       "      <td>0.0</td>\n",
       "      <td>...</td>\n",
       "      <td>132465</td>\n",
       "      <td>736477</td>\n",
       "      <td>Camperon abrigado</td>\n",
       "      <td>Camperon blanco super abrigado, de tela imperm...</td>\n",
       "      <td>650.0</td>\n",
       "      <td>-34.645530</td>\n",
       "      <td>-58.501153</td>\n",
       "      <td>android</td>\n",
       "      <td>1</td>\n",
       "      <td>0</td>\n",
       "    </tr>\n",
       "    <tr>\n",
       "      <th>2106238</th>\n",
       "      <td>736490</td>\n",
       "      <td>13809</td>\n",
       "      <td>1</td>\n",
       "      <td>0</td>\n",
       "      <td>-34.341278</td>\n",
       "      <td>-58.794456</td>\n",
       "      <td>notification_center</td>\n",
       "      <td>2826034</td>\n",
       "      <td>1.0</td>\n",
       "      <td>0.0</td>\n",
       "      <td>...</td>\n",
       "      <td>118755</td>\n",
       "      <td>736490</td>\n",
       "      <td>Ropa para perros</td>\n",
       "      <td>Chalecos para perro. Precio talle 5.. Otros ta...</td>\n",
       "      <td>190.0</td>\n",
       "      <td>0.000000</td>\n",
       "      <td>0.000000</td>\n",
       "      <td>android</td>\n",
       "      <td>0</td>\n",
       "      <td>0</td>\n",
       "    </tr>\n",
       "    <tr>\n",
       "      <th>1452962</th>\n",
       "      <td>736480</td>\n",
       "      <td>1629</td>\n",
       "      <td>1</td>\n",
       "      <td>0</td>\n",
       "      <td>-34.450321</td>\n",
       "      <td>-58.599049</td>\n",
       "      <td>home</td>\n",
       "      <td>2564088</td>\n",
       "      <td>3.0</td>\n",
       "      <td>0.0</td>\n",
       "      <td>...</td>\n",
       "      <td>273646</td>\n",
       "      <td>736459</td>\n",
       "      <td>REMATO samsung trend</td>\n",
       "      <td>es liberado y anda perfecto. astillado en una ...</td>\n",
       "      <td>1600.0</td>\n",
       "      <td>0.000000</td>\n",
       "      <td>0.000000</td>\n",
       "      <td>android</td>\n",
       "      <td>0</td>\n",
       "      <td>0</td>\n",
       "    </tr>\n",
       "    <tr>\n",
       "      <th>1206329</th>\n",
       "      <td>736492</td>\n",
       "      <td>4320</td>\n",
       "      <td>1</td>\n",
       "      <td>0</td>\n",
       "      <td>-34.593472</td>\n",
       "      <td>-58.402893</td>\n",
       "      <td>search</td>\n",
       "      <td>2817427</td>\n",
       "      <td>2.0</td>\n",
       "      <td>1647.0</td>\n",
       "      <td>...</td>\n",
       "      <td>146983</td>\n",
       "      <td>736489</td>\n",
       "      <td>Montgomery para Hombre</td>\n",
       "      <td>Marca: LNG Clothing (USA) - Color: Gris - Tall...</td>\n",
       "      <td>1000.0</td>\n",
       "      <td>-34.589336</td>\n",
       "      <td>-58.396202</td>\n",
       "      <td>apple</td>\n",
       "      <td>1</td>\n",
       "      <td>0</td>\n",
       "    </tr>\n",
       "    <tr>\n",
       "      <th>...</th>\n",
       "      <td>...</td>\n",
       "      <td>...</td>\n",
       "      <td>...</td>\n",
       "      <td>...</td>\n",
       "      <td>...</td>\n",
       "      <td>...</td>\n",
       "      <td>...</td>\n",
       "      <td>...</td>\n",
       "      <td>...</td>\n",
       "      <td>...</td>\n",
       "      <td>...</td>\n",
       "      <td>...</td>\n",
       "      <td>...</td>\n",
       "      <td>...</td>\n",
       "      <td>...</td>\n",
       "      <td>...</td>\n",
       "      <td>...</td>\n",
       "      <td>...</td>\n",
       "      <td>...</td>\n",
       "      <td>...</td>\n",
       "      <td>...</td>\n",
       "    </tr>\n",
       "    <tr>\n",
       "      <th>1045705</th>\n",
       "      <td>736473</td>\n",
       "      <td>13026</td>\n",
       "      <td>1</td>\n",
       "      <td>2</td>\n",
       "      <td>-34.468696</td>\n",
       "      <td>-58.502882</td>\n",
       "      <td>home</td>\n",
       "      <td>2679124</td>\n",
       "      <td>2.0</td>\n",
       "      <td>0.0</td>\n",
       "      <td>...</td>\n",
       "      <td>458809</td>\n",
       "      <td>736472</td>\n",
       "      <td>Reloj Nike malla metalica</td>\n",
       "      <td>0</td>\n",
       "      <td>550.0</td>\n",
       "      <td>0.000000</td>\n",
       "      <td>0.000000</td>\n",
       "      <td>apple</td>\n",
       "      <td>1</td>\n",
       "      <td>0</td>\n",
       "    </tr>\n",
       "    <tr>\n",
       "      <th>1271037</th>\n",
       "      <td>736491</td>\n",
       "      <td>5699</td>\n",
       "      <td>1</td>\n",
       "      <td>0</td>\n",
       "      <td>-34.629871</td>\n",
       "      <td>-58.470013</td>\n",
       "      <td>search</td>\n",
       "      <td>1970867</td>\n",
       "      <td>1.0</td>\n",
       "      <td>10.0</td>\n",
       "      <td>...</td>\n",
       "      <td>526234</td>\n",
       "      <td>736385</td>\n",
       "      <td>camara digital 12 mega pixels</td>\n",
       "      <td>Camara digital 12megapixels, memoria 2gb inclu...</td>\n",
       "      <td>300.0</td>\n",
       "      <td>0.000000</td>\n",
       "      <td>0.000000</td>\n",
       "      <td>apple</td>\n",
       "      <td>0</td>\n",
       "      <td>0</td>\n",
       "    </tr>\n",
       "    <tr>\n",
       "      <th>1720748</th>\n",
       "      <td>736482</td>\n",
       "      <td>3579</td>\n",
       "      <td>1</td>\n",
       "      <td>0</td>\n",
       "      <td>-34.565849</td>\n",
       "      <td>-58.469189</td>\n",
       "      <td>push</td>\n",
       "      <td>2284901</td>\n",
       "      <td>4.0</td>\n",
       "      <td>0.0</td>\n",
       "      <td>...</td>\n",
       "      <td>221310</td>\n",
       "      <td>736425</td>\n",
       "      <td>Borcegos Prune</td>\n",
       "      <td>grises talle 36-37- muy buen estado</td>\n",
       "      <td>300.0</td>\n",
       "      <td>0.000000</td>\n",
       "      <td>0.000000</td>\n",
       "      <td>apple</td>\n",
       "      <td>0</td>\n",
       "      <td>0</td>\n",
       "    </tr>\n",
       "    <tr>\n",
       "      <th>1021560</th>\n",
       "      <td>736489</td>\n",
       "      <td>11086</td>\n",
       "      <td>1</td>\n",
       "      <td>0</td>\n",
       "      <td>-34.603733</td>\n",
       "      <td>-58.383766</td>\n",
       "      <td>home</td>\n",
       "      <td>1401514</td>\n",
       "      <td>2.0</td>\n",
       "      <td>0.0</td>\n",
       "      <td>...</td>\n",
       "      <td>159238</td>\n",
       "      <td>736308</td>\n",
       "      <td>Zapatillas nike nair talle 39</td>\n",
       "      <td>Estan en buen estados nuebas me quedaron chicas</td>\n",
       "      <td>700.0</td>\n",
       "      <td>0.000000</td>\n",
       "      <td>0.000000</td>\n",
       "      <td>android</td>\n",
       "      <td>1</td>\n",
       "      <td>0</td>\n",
       "    </tr>\n",
       "    <tr>\n",
       "      <th>1920910</th>\n",
       "      <td>736471</td>\n",
       "      <td>6840</td>\n",
       "      <td>1</td>\n",
       "      <td>0</td>\n",
       "      <td>-32.975555</td>\n",
       "      <td>-60.672379</td>\n",
       "      <td>home</td>\n",
       "      <td>1319453</td>\n",
       "      <td>5.0</td>\n",
       "      <td>0.0</td>\n",
       "      <td>...</td>\n",
       "      <td>433339</td>\n",
       "      <td>736297</td>\n",
       "      <td>Vendo motitoo</td>\n",
       "      <td>Vendo motitoo muí linda para chikos  .</td>\n",
       "      <td>10000.0</td>\n",
       "      <td>0.000000</td>\n",
       "      <td>0.000000</td>\n",
       "      <td>android</td>\n",
       "      <td>0</td>\n",
       "      <td>0</td>\n",
       "    </tr>\n",
       "  </tbody>\n",
       "</table>\n",
       "<p>1715111 rows × 23 columns</p>\n",
       "</div>"
      ],
      "text/plain": [
       "         event_time  user_id  event  channel   user_lat  user_long  \\\n",
       "1353502      736467    10152      1        2 -34.596501 -58.431631   \n",
       "36272        736480     4094      1        0 -34.646748 -58.504932   \n",
       "2106238      736490    13809      1        0 -34.341278 -58.794456   \n",
       "1452962      736480     1629      1        0 -34.450321 -58.599049   \n",
       "1206329      736492     4320      1        0 -34.593472 -58.402893   \n",
       "...             ...      ...    ...      ...        ...        ...   \n",
       "1045705      736473    13026      1        2 -34.468696 -58.502882   \n",
       "1271037      736491     5699      1        0 -34.629871 -58.470013   \n",
       "1720748      736482     3579      1        0 -34.565849 -58.469189   \n",
       "1021560      736489    11086      1        0 -34.603733 -58.383766   \n",
       "1920910      736471     6840      1        0 -32.975555 -60.672379   \n",
       "\n",
       "                      origin    ad_id  images_count  ad_impressions  ...  \\\n",
       "1353502                 home  2630878           1.0             0.0  ...   \n",
       "36272                   home  2725792           3.0             0.0  ...   \n",
       "2106238  notification_center  2826034           1.0             0.0  ...   \n",
       "1452962                 home  2564088           3.0             0.0  ...   \n",
       "1206329               search  2817427           2.0          1647.0  ...   \n",
       "...                      ...      ...           ...             ...  ...   \n",
       "1045705                 home  2679124           2.0             0.0  ...   \n",
       "1271037               search  1970867           1.0            10.0  ...   \n",
       "1720748                 push  2284901           4.0             0.0  ...   \n",
       "1021560                 home  1401514           2.0             0.0  ...   \n",
       "1920910                 home  1319453           5.0             0.0  ...   \n",
       "\n",
       "         seller_id  creation_time                           title  \\\n",
       "1353502     616357         736466  MUEBLE VANITORY COMPLETO OFERT   \n",
       "36272       132465         736477               Camperon abrigado   \n",
       "2106238     118755         736490                Ropa para perros   \n",
       "1452962     273646         736459            REMATO samsung trend   \n",
       "1206329     146983         736489          Montgomery para Hombre   \n",
       "...            ...            ...                             ...   \n",
       "1045705     458809         736472       Reloj Nike malla metalica   \n",
       "1271037     526234         736385   camara digital 12 mega pixels   \n",
       "1720748     221310         736425                  Borcegos Prune   \n",
       "1021560     159238         736308   Zapatillas nike nair talle 39   \n",
       "1920910     433339         736297                   Vendo motitoo   \n",
       "\n",
       "                                               description    price  \\\n",
       "1353502  Vanitory completo con bacha de vidrio, cajon y...   1997.0   \n",
       "36272    Camperon blanco super abrigado, de tela imperm...    650.0   \n",
       "2106238  Chalecos para perro. Precio talle 5.. Otros ta...    190.0   \n",
       "1452962  es liberado y anda perfecto. astillado en una ...   1600.0   \n",
       "1206329  Marca: LNG Clothing (USA) - Color: Gris - Tall...   1000.0   \n",
       "...                                                    ...      ...   \n",
       "1045705                                                  0    550.0   \n",
       "1271037  Camara digital 12megapixels, memoria 2gb inclu...    300.0   \n",
       "1720748                grises talle 36-37- muy buen estado    300.0   \n",
       "1021560    Estan en buen estados nuebas me quedaron chicas    700.0   \n",
       "1920910             Vendo motitoo muí linda para chikos  .  10000.0   \n",
       "\n",
       "               lat       long   source  enabled  isRecommended  \n",
       "1353502   0.000000   0.000000  android        0              0  \n",
       "36272   -34.645530 -58.501153  android        1              0  \n",
       "2106238   0.000000   0.000000  android        0              0  \n",
       "1452962   0.000000   0.000000  android        0              0  \n",
       "1206329 -34.589336 -58.396202    apple        1              0  \n",
       "...            ...        ...      ...      ...            ...  \n",
       "1045705   0.000000   0.000000    apple        1              0  \n",
       "1271037   0.000000   0.000000    apple        0              0  \n",
       "1720748   0.000000   0.000000    apple        0              0  \n",
       "1021560   0.000000   0.000000  android        1              0  \n",
       "1920910   0.000000   0.000000  android        0              0  \n",
       "\n",
       "[1715111 rows x 23 columns]"
      ]
     },
     "execution_count": 37,
     "metadata": {},
     "output_type": "execute_result"
    }
   ],
   "source": [
    "train"
   ]
  },
  {
   "cell_type": "code",
   "execution_count": null,
   "metadata": {},
   "outputs": [],
   "source": [
    "combined['pred'] = clf.predict(combined[features])\n",
    "print(\"Traning Accuracy :\" + str(accuracy_score(train['isRecommended'], clf.predict(train[features]))))\n",
    "print(\"Validation Accuracy :\" + str(accuracy_score(val['isRecommended'], clf.predict(val[features]))))"
   ]
  },
  {
   "cell_type": "code",
   "execution_count": 33,
   "metadata": {},
   "outputs": [],
   "source": [
    "personalized_dict = {}\n",
    "counter = 0\n",
    "for index, row in combined[combined['pred']==1].iterrows():\n",
    "    key = str(row['user_id']) + \"|\" + str(row['category_id'])\n",
    "    personalized_dict[key] = personalized_dict.get(key,[])\n",
    "    personalized_dict[key].add(row['ad_id'])"
   ]
  },
  {
   "cell_type": "markdown",
   "metadata": {},
   "source": [
    "# Merged Approach"
   ]
  },
  {
   "cell_type": "code",
   "execution_count": 34,
   "metadata": {},
   "outputs": [
    {
     "name": "stdout",
     "output_type": "stream",
     "text": [
      "100000\n",
      "200000\n",
      "300000\n",
      "400000\n",
      "500000\n",
      "600000\n",
      "700000\n",
      "800000\n",
      "900000\n",
      "1000000\n",
      "1100000\n",
      "1200000\n",
      "1300000\n",
      "1400000\n",
      "1500000\n",
      "1600000\n",
      "1700000\n",
      "1800000\n",
      "1900000\n",
      "2000000\n",
      "2100000\n"
     ]
    }
   ],
   "source": [
    "user_dict_view = {}\n",
    "user_dict_fmsg = {}\n",
    "counter = 0\n",
    "for index, row in user_data.iterrows():\n",
    "    counter = counter + 1\n",
    "    if (counter%100000==0):\n",
    "        print(counter)\n",
    "    if (row['event']=='first_message'):\n",
    "        user_dict_fmsg[row['user_id']] = user_dict_fmsg.get(row['user_id'],[])\n",
    "        user_dict_fmsg[row['user_id']].add('ad_id')\n",
    "    if (row['event']=='view'):\n",
    "        user_dict_view[row['user_id']] = user_dict_view.get(row['user_id'],[])\n",
    "        user_dict_view[row['user_id']].add('ad_id')\n",
    "    "
   ]
  },
  {
   "cell_type": "code",
   "execution_count": 35,
   "metadata": {},
   "outputs": [],
   "source": [
    "def getRecommendations(row):\n",
    "    user = str(row['user_id'])\n",
    "    cat = str(row['category_id'])\n",
    "    \n",
    "    personalized_ads = personalized_dict.get(user+ '|'+cat,[])\n",
    "    user_most_viewed = user_dict_view.get(int(user),[])\n",
    "    user_messaged = user_dict_fmsg.get(int(user),[])\n",
    "    \n",
    "    most_popular = cat_dict[row['category_id']]\n",
    "    \n",
    "    allAds = user_most_viewed + personalized_ads + user_messaged + most_popular\n",
    "    # here we can write some scoring logic for choosing the one to recommend among these\n",
    "    return str(allAds[0:10])\n",
    "    "
   ]
  },
  {
   "cell_type": "code",
   "execution_count": 36,
   "metadata": {},
   "outputs": [
    {
     "name": "stdout",
     "output_type": "stream",
     "text": [
      "accuracy of model :  38\n",
      "precision of model :  8.356321959541373e-22\n"
     ]
    }
   ],
   "source": [
    "sub = user_messages \n",
    "sub['recommend'] = sub.apply(catWisePopular, axis = 1)\n",
    "\n",
    "print('accuracy of model : ',evaluate_accuracy(sub))\n",
    "print('precision of model : ',evaluate_precision(sub))"
   ]
  },
  {
   "cell_type": "code",
   "execution_count": null,
   "metadata": {},
   "outputs": [],
   "source": []
  }
 ],
 "metadata": {
  "kernelspec": {
   "display_name": "Python 3",
   "language": "python",
   "name": "python3"
  },
  "language_info": {
   "codemirror_mode": {
    "name": "ipython",
    "version": 3
   },
   "file_extension": ".py",
   "mimetype": "text/x-python",
   "name": "python",
   "nbconvert_exporter": "python",
   "pygments_lexer": "ipython3",
   "version": "3.7.3"
  }
 },
 "nbformat": 4,
 "nbformat_minor": 2
}
